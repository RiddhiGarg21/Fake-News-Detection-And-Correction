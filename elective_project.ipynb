{
 "cells": [
  {
   "cell_type": "code",
   "execution_count": null,
   "id": "f714cd3f",
   "metadata": {},
   "outputs": [
    {
     "name": "stdout",
     "output_type": "stream",
     "text": [
      "Model and vectorizer saved successfully.\n",
      "Label mapping: REAL=0, FAKE=1\n",
      "Train Accuracy: 1.0\n",
      "Test Accuracy: 0.9172633253778838\n"
     ]
    }
   ],
   "source": [
    "import numpy as np\n",
    "import pandas as pd\n",
    "import pickle\n",
    "from sklearn.model_selection import train_test_split\n",
    "from sklearn.feature_extraction.text import TfidfVectorizer\n",
    "from sklearn.metrics import accuracy_score\n",
    "from my_model import PassiveAggressiveClassifier\n",
    "\n",
    "\n",
    "\n",
    "df = pd.read_csv(\"cleaned_news.csv\")\n",
    "df.dropna(subset=['content', 'label'], inplace=True)\n",
    "\n",
    "\n",
    "X_raw = df['content'].values\n",
    "y_original = df['label'].values \n",
    "\n",
    "y = 1 - y_original \n",
    "\n",
    "vectorizer = TfidfVectorizer(max_features=5000, ngram_range=(1, 2))\n",
    "X_vectorized = vectorizer.fit_transform(X_raw).toarray()\n",
    "\n",
    "X_train, X_test, y_train, y_test = train_test_split(X_vectorized, y, test_size=0.2, random_state=42)\n",
    "\n",
    "model = PassiveAggressiveClassifier(max_iter=100, C=0.1, mode=\"PA-I\")\n",
    "model.fit(X_train, y_train)\n",
    "\n",
    "with open(\"pa_model.pkl\", \"wb\") as f:\n",
    "    pickle.dump(model, f)\n",
    "\n",
    "with open(\"vectorizer.pkl\", \"wb\") as f:\n",
    "    pickle.dump(vectorizer, f)\n",
    "\n",
    "print(\"Model and vectorizer saved successfully.\")\n",
    "print(\"Label mapping: REAL=0, FAKE=1\")\n",
    "print(\"Train Accuracy:\", model.score(X_train, y_train))\n",
    "print(\"Test Accuracy:\", model.score(X_test, y_test))\n"
   ]
  }
 ],
 "metadata": {
  "kernelspec": {
   "display_name": "base",
   "language": "python",
   "name": "python3"
  },
  "language_info": {
   "codemirror_mode": {
    "name": "ipython",
    "version": 3
   },
   "file_extension": ".py",
   "mimetype": "text/x-python",
   "name": "python",
   "nbconvert_exporter": "python",
   "pygments_lexer": "ipython3",
   "version": "3.12.9"
  }
 },
 "nbformat": 4,
 "nbformat_minor": 5
}
